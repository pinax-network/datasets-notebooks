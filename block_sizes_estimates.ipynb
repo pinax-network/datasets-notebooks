{
 "cells": [
  {
   "cell_type": "code",
   "execution_count": 1,
   "metadata": {},
   "outputs": [
    {
     "name": "stdout",
     "output_type": "stream",
     "text": [
      "Note: you may need to restart the kernel to use updated packages.\n"
     ]
    }
   ],
   "source": [
    "%pip install pandas altair[all] si-prefix vegafusion[embed] --quiet"
   ]
  },
  {
   "cell_type": "code",
   "execution_count": 2,
   "metadata": {},
   "outputs": [
    {
     "data": {
      "text/plain": [
       "DataTransformerRegistry.enable('vegafusion')"
      ]
     },
     "execution_count": 2,
     "metadata": {},
     "output_type": "execute_result"
    }
   ],
   "source": [
    "import altair as alt\n",
    "import pandas as pd\n",
    "from si_prefix import si_format\n",
    "alt.data_transformers.enable(\"vegafusion\")\n",
    "alt.renderers.enable(\"jupyter\")\n",
    "alt.data_transformers.disable_max_rows()"
   ]
  },
  {
   "cell_type": "markdown",
   "metadata": {},
   "source": [
    "### Update bin size here"
   ]
  },
  {
   "cell_type": "code",
   "execution_count": 3,
   "metadata": {},
   "outputs": [],
   "source": [
    "bin_size = 100_000"
   ]
  },
  {
   "cell_type": "code",
   "execution_count": 4,
   "metadata": {},
   "outputs": [
    {
     "data": {
      "text/html": [
       "<div>\n",
       "<style scoped>\n",
       "    .dataframe tbody tr th:only-of-type {\n",
       "        vertical-align: middle;\n",
       "    }\n",
       "\n",
       "    .dataframe tbody tr th {\n",
       "        vertical-align: top;\n",
       "    }\n",
       "\n",
       "    .dataframe thead th {\n",
       "        text-align: right;\n",
       "    }\n",
       "</style>\n",
       "<table border=\"1\" class=\"dataframe\">\n",
       "  <thead>\n",
       "    <tr style=\"text-align: right;\">\n",
       "      <th></th>\n",
       "      <th>block_number</th>\n",
       "      <th>size</th>\n",
       "    </tr>\n",
       "  </thead>\n",
       "  <tbody>\n",
       "    <tr>\n",
       "      <th>0</th>\n",
       "      <td>1</td>\n",
       "      <td>537</td>\n",
       "    </tr>\n",
       "    <tr>\n",
       "      <th>1</th>\n",
       "      <td>2</td>\n",
       "      <td>544</td>\n",
       "    </tr>\n",
       "    <tr>\n",
       "      <th>2</th>\n",
       "      <td>3</td>\n",
       "      <td>1079</td>\n",
       "    </tr>\n",
       "    <tr>\n",
       "      <th>3</th>\n",
       "      <td>4</td>\n",
       "      <td>1079</td>\n",
       "    </tr>\n",
       "    <tr>\n",
       "      <th>4</th>\n",
       "      <td>5</td>\n",
       "      <td>537</td>\n",
       "    </tr>\n",
       "  </tbody>\n",
       "</table>\n",
       "</div>"
      ],
      "text/plain": [
       "   block_number  size\n",
       "0             1   537\n",
       "1             2   544\n",
       "2             3  1079\n",
       "3             4  1079\n",
       "4             5   537"
      ]
     },
     "execution_count": 4,
     "metadata": {},
     "output_type": "execute_result"
    }
   ],
   "source": [
    "df_ch = pd.read_csv(\"data/block_sizes.csv.xz\")\n",
    "df_ch.columns = ['block_number', 'size']\n",
    "df_ch = df_ch.sort_values('block_number').reset_index(drop=True)\n",
    "df_ch.head()"
   ]
  },
  {
   "cell_type": "code",
   "execution_count": 5,
   "metadata": {},
   "outputs": [
    {
     "data": {
      "text/html": [
       "<div>\n",
       "<style scoped>\n",
       "    .dataframe tbody tr th:only-of-type {\n",
       "        vertical-align: middle;\n",
       "    }\n",
       "\n",
       "    .dataframe tbody tr th {\n",
       "        vertical-align: top;\n",
       "    }\n",
       "\n",
       "    .dataframe thead th {\n",
       "        text-align: right;\n",
       "    }\n",
       "</style>\n",
       "<table border=\"1\" class=\"dataframe\">\n",
       "  <thead>\n",
       "    <tr style=\"text-align: right;\">\n",
       "      <th></th>\n",
       "      <th>block_number</th>\n",
       "      <th>size</th>\n",
       "    </tr>\n",
       "  </thead>\n",
       "  <tbody>\n",
       "    <tr>\n",
       "      <th>0</th>\n",
       "      <td>0</td>\n",
       "      <td>62335913</td>\n",
       "    </tr>\n",
       "    <tr>\n",
       "      <th>1</th>\n",
       "      <td>100000</td>\n",
       "      <td>69523410</td>\n",
       "    </tr>\n",
       "    <tr>\n",
       "      <th>2</th>\n",
       "      <td>200000</td>\n",
       "      <td>76299915</td>\n",
       "    </tr>\n",
       "    <tr>\n",
       "      <th>3</th>\n",
       "      <td>300000</td>\n",
       "      <td>78012843</td>\n",
       "    </tr>\n",
       "    <tr>\n",
       "      <th>4</th>\n",
       "      <td>400000</td>\n",
       "      <td>79124983</td>\n",
       "    </tr>\n",
       "  </tbody>\n",
       "</table>\n",
       "</div>"
      ],
      "text/plain": [
       "   block_number      size\n",
       "0             0  62335913\n",
       "1        100000  69523410\n",
       "2        200000  76299915\n",
       "3        300000  78012843\n",
       "4        400000  79124983"
      ]
     },
     "execution_count": 5,
     "metadata": {},
     "output_type": "execute_result"
    }
   ],
   "source": [
    "df_binned = df_ch.groupby(pd.cut(df_ch['block_number'], bins=range(0, df_ch['block_number'].max(), bin_size), precision=0), observed=False)\n",
    "df_binned = df_binned['size'].sum().reset_index()\n",
    "df_binned['block_number'] = pd.to_numeric(df_binned['block_number'].apply(lambda x: x.left))\n",
    "df_binned.head()"
   ]
  },
  {
   "cell_type": "code",
   "execution_count": 6,
   "metadata": {},
   "outputs": [],
   "source": [
    "brush = alt.selection_interval(\n",
    "    encodings=['x']\n",
    ")\n",
    "base = alt.Chart(df_binned)\n",
    "\n",
    "text = base.mark_text(\n",
    "    baseline='top',\n",
    "    align='left',\n",
    "    fontSize=16,\n",
    "    fontWeight='bold',\n",
    "    yOffset=-20\n",
    ").transform_filter(\n",
    "    brush\n",
    ").transform_aggregate(\n",
    "    total='sum(size)',\n",
    "    min_range='min(block_number)',\n",
    "    max_range='max(block_number)',\n",
    ").transform_calculate(\n",
    "    count='datum.max_range - datum.min_range',\n",
    "    f_min=\"format(datum.min_range, ',')\",\n",
    "    f_max=\"format(datum.max_range, ',')\",\n",
    "    f_count=\"format(datum.count, ',')\",\n",
    "    label=\"'Min: ' + datum.f_min + ' | Max: ' + datum.f_max + ' | Count: ' + datum.f_count + ' | Total ' + format(datum.total, '.3s')\"\n",
    ").encode(\n",
    "    x=alt.value(5),\n",
    "    y=alt.value(0),\n",
    "    text='label:N'\n",
    ")\n",
    "\n",
    "chart = base.mark_line(\n",
    "    interpolate='step-after',\n",
    ").encode(\n",
    "    x=alt.X(\n",
    "        'block_number:Q',\n",
    "        axis=alt.Axis(title=f'Block number ({si_format(bin_size, precision=0, format_str=\"{value}{prefix}\")} groups)'),\n",
    "        scale=alt.Scale(domainMax=df_ch['block_number'].max())\n",
    "    ),\n",
    "    y=alt.Y(\n",
    "        'size:Q',\n",
    "        axis=alt.Axis(format='s', title='Sum of block size in Bytes')\n",
    "    ),\n",
    "    tooltip=['block_number']\n",
    ")"
   ]
  },
  {
   "cell_type": "code",
   "execution_count": 7,
   "metadata": {},
   "outputs": [
    {
     "data": {
      "application/vnd.jupyter.widget-view+json": {
       "model_id": "3c2f792df0ca4eccae2048f84bc2f2bd",
       "version_major": 2,
       "version_minor": 1
      },
      "text/plain": [
       "JupyterChart()"
      ]
     },
     "execution_count": 7,
     "metadata": {},
     "output_type": "execute_result"
    }
   ],
   "source": [
    "(chart.add_params(brush) + text).properties(\n",
    "    width=1000,\n",
    "    height=500,\n",
    "    title=\"Click and hold to select a block range. You can drag and zoom to change the shape of the selection.\"\n",
    ").configure_title(\n",
    "    fontSize=18,\n",
    "    fontStyle='italic',\n",
    "    fontWeight='lighter',\n",
    "    orient='bottom',\n",
    "    dy=20\n",
    ")"
   ]
  },
  {
   "cell_type": "code",
   "execution_count": 8,
   "metadata": {},
   "outputs": [],
   "source": [
    "import numpy.random as nr\n",
    "import numpy as np\n",
    "\n",
    "def equisum_partition(arr, p, verbose=False):\n",
    "    \"\"\"Adapted from https://stackoverflow.com/a/54024280\"\"\"\n",
    "    ac = arr.cumsum()\n",
    "    if verbose:\n",
    "        print(ac)\n",
    "\n",
    "    #sum of the entire array\n",
    "    partsum = ac[-1]//p \n",
    "    if verbose:\n",
    "        print(partsum)\n",
    "\n",
    "    #generates the cumulative sums of each part\n",
    "    cumpartsums = np.array(range(1,p))*partsum\n",
    "    if verbose:\n",
    "        print(cumpartsums)\n",
    "\n",
    "    #finds the indices where the cumulative sums are sandwiched\n",
    "    inds = np.searchsorted(ac,cumpartsums) \n",
    "    if verbose:\n",
    "        print(inds)\n",
    "\n",
    "    #split into approximately equal-sum arrays\n",
    "    parts = np.split(arr,inds)\n",
    "    if verbose:\n",
    "        print(parts)\n",
    "\n",
    "    return parts\n",
    "\n",
    "def format_size(s):\n",
    "    return si_format(s, precision=4, format_str=\"{value}{prefix}\")"
   ]
  },
  {
   "cell_type": "markdown",
   "metadata": {},
   "source": [
    "### Update number of jobs here"
   ]
  },
  {
   "cell_type": "code",
   "execution_count": 9,
   "metadata": {},
   "outputs": [],
   "source": [
    "jobs = 25"
   ]
  },
  {
   "cell_type": "code",
   "execution_count": 10,
   "metadata": {},
   "outputs": [
    {
     "name": "stdout",
     "output_type": "stream",
     "text": [
      "Subset #0: count=5729628, sum=42.7146G\n",
      "Subset #1: count=2072920, sum=42.7147G\n",
      "Subset #2: count=1890228, sum=42.7147G\n",
      "Subset #3: count=1304775, sum=42.7147G\n",
      "Subset #4: count=1023472, sum=42.7147G\n",
      "Subset #5: count=826497, sum=42.7146G\n",
      "Subset #6: count=564808, sum=42.7147G\n",
      "Subset #7: count=589786, sum=42.7147G\n",
      "Subset #8: count=478800, sum=42.7146G\n",
      "Subset #9: count=446212, sum=42.7146G\n",
      "Subset #10: count=492712, sum=42.7147G\n",
      "Subset #11: count=549374, sum=42.7147G\n",
      "Subset #12: count=540320, sum=42.7146G\n",
      "Subset #13: count=436976, sum=42.7146G\n",
      "Subset #14: count=381966, sum=42.7147G\n",
      "Subset #15: count=341562, sum=42.7147G\n",
      "Subset #16: count=288675, sum=42.7147G\n",
      "Subset #17: count=260870, sum=42.7143G\n",
      "Subset #18: count=258021, sum=42.7150G\n",
      "Subset #19: count=246415, sum=42.7147G\n",
      "Subset #20: count=231537, sum=42.7139G\n",
      "Subset #21: count=272319, sum=42.7153G\n",
      "Subset #22: count=286389, sum=42.7148G\n",
      "Subset #23: count=451463, sum=42.7146G\n",
      "Subset #24: count=577387, sum=42.7147G\n",
      "---\n",
      "Average size: 42.7147G\n",
      "Ranges: [(0, 5729628), (5729628, 7802548), (7802548, 9692776), (9692776, 10997551), (10997551, 12021023), (12021023, 12847520), (12847520, 13412328), (13412328, 14002114), (14002114, 14480914), (14480914, 14927126), (14927126, 15419838), (15419838, 15969212), (15969212, 16509532), (16509532, 16946508), (16946508, 17328474), (17328474, 17670036), (17670036, 17958711), (17958711, 18219581), (18219581, 18477602), (18477602, 18724017), (18724017, 18955554), (18955554, 19227873), (19227873, 19514262), (19514262, 19965725), (19965725, 20543112)]\n"
     ]
    }
   ],
   "source": [
    "numpy_p = equisum_partition(df_ch['size'].values, jobs)\n",
    "for i, s in enumerate(numpy_p):\n",
    "        print(f\"Subset #{i}: count={len(s)}, sum={format_size(sum(s))}\")\n",
    "\n",
    "print('---\\nAverage size:', format_size(sum([sum(s) for s in numpy_p])/len(numpy_p)))\n",
    "\n",
    "ranges = []\n",
    "running_count = 0\n",
    "for l in numpy_p:\n",
    "    ranges.append((running_count, running_count + len(l)))\n",
    "    running_count += len(l)\n",
    "print('Ranges:', ranges)"
   ]
  },
  {
   "cell_type": "code",
   "execution_count": 11,
   "metadata": {},
   "outputs": [
    {
     "data": {
      "application/vnd.jupyter.widget-view+json": {
       "model_id": "fbaa5191138a4113a446d4f2e4487242",
       "version_major": 2,
       "version_minor": 1
      },
      "text/plain": [
       "JupyterChart()"
      ]
     },
     "execution_count": 11,
     "metadata": {},
     "output_type": "execute_result"
    }
   ],
   "source": [
    "rules = []\n",
    "flip = True\n",
    "for r in ranges:\n",
    "    rules.append(\n",
    "        base.mark_rect(\n",
    "            color='#b2d9e2' if flip else '#d3ecef',\n",
    "        ).encode(\n",
    "            x=alt.datum(r[0], scale=alt.Scale(domainMax=df_ch['block_number'].max())),\n",
    "            x2=alt.datum(r[1]),\n",
    "            size=alt.value(1),\n",
    "            opacity=alt.value(0.05),\n",
    "        )\n",
    "    )\n",
    "    flip = not flip\n",
    "\n",
    "alt.layer(*rules, chart.interactive()).properties(\n",
    "    width=1000,\n",
    "    height=500\n",
    ")"
   ]
  }
 ],
 "metadata": {
  "kernelspec": {
   "display_name": "Python 3 (ipykernel)",
   "language": "python",
   "name": "python3"
  },
  "language_info": {
   "codemirror_mode": {
    "name": "ipython",
    "version": 3
   },
   "file_extension": ".py",
   "mimetype": "text/x-python",
   "name": "python",
   "nbconvert_exporter": "python",
   "pygments_lexer": "ipython3",
   "version": "3.11.2"
  }
 },
 "nbformat": 4,
 "nbformat_minor": 4
}
